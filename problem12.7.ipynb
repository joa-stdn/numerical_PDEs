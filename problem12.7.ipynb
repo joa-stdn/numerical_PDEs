{
 "cells": [
  {
   "cell_type": "markdown",
   "metadata": {},
   "source": [
    "## Homework 6 CME306\n",
    "### Problem 12.7"
   ]
  },
  {
   "cell_type": "markdown",
   "metadata": {},
   "source": [
    "We will use the Wendroff Box scheme to solve the equation $\\frac{\\partial u}{\\partial t} + (1+t)\\frac{\\partial u}{\\partial x}=0$ on $\\Omega \\times \\mathbb{R}_+$ and $u(x,t) = x^2$ on $\\Gamma_-$ where $\\Omega=(0,1)$ and $\\Gamma_- = (\\{0\\} \\times \\mathbb{R}_+) \\cup (\\bar{\\Omega} \\times \\{0\\})$."
   ]
  },
  {
   "cell_type": "code",
   "execution_count": 1,
   "metadata": {},
   "outputs": [],
   "source": [
    "import numpy as np\n",
    "import matplotlib.pyplot as plt"
   ]
  },
  {
   "cell_type": "code",
   "execution_count": 2,
   "metadata": {},
   "outputs": [],
   "source": [
    "def exact_solution(y):\n",
    "    \"\"\"\n",
    "    Defining y = (x, t) and computing the exact solution values at each point\n",
    "    y is supposed to be a K * 2 array\n",
    "    \"\"\"\n",
    "    # Retrieving x and t\n",
    "    x, t = y[:, 0], y[:, 1]\n",
    "    \n",
    "    # Computing exact values\n",
    "    exact_values = np.max(x - t - 0.5 * t ** 2, 0) ** 2\n",
    "    \n",
    "    return exact_values"
   ]
  },
  {
   "cell_type": "code",
   "execution_count": 20,
   "metadata": {},
   "outputs": [],
   "source": [
    "def wendroff_box(M, k, n_max):\n",
    "    \"\"\"\n",
    "    With h = 1 / M and k, from n = 0 to n = n_max, computing the Wendroff Box solution\n",
    "    \"\"\"\n",
    "    # Defining constants\n",
    "    h = 1 / M\n",
    "    lambd = k / h\n",
    "    \n",
    "    # Initializing solution\n",
    "    U = np.zeros((M + 1, n_max + 1))\n",
    "    U[0, :] = 0\n",
    "    U[:, 0] = h ** 2 * np.arange(0, M + 1) ** 2\n",
    "    \n",
    "    # Wendroff Box scheme\n",
    "    for n in range(1, n_max + 1):\n",
    "        # First looping with respect to n\n",
    "        # Defining some constants\n",
    "        a = 1 + k * (n - 0.5)\n",
    "        cst = (1 - a * lambd) / (1 + a * lambd)\n",
    "        \n",
    "        for j in range(1, M + 1):\n",
    "            # Then looping on j\n",
    "            U[j, n] = U[j - 1, n - 1] + cst * (U[j, n - 1] - U[j - 1, n])\n",
    "    \n",
    "    # Returning the result\n",
    "    return U"
   ]
  },
  {
   "cell_type": "markdown",
   "metadata": {},
   "source": [
    "#### Computing errors"
   ]
  },
  {
   "cell_type": "code",
   "execution_count": 21,
   "metadata": {},
   "outputs": [
    {
     "data": {
      "text/plain": [
       "0.140625"
      ]
     },
     "execution_count": 21,
     "metadata": {},
     "output_type": "execute_result"
    }
   ],
   "source": [
    "# Exact value at Point (1, 1 / 2)\n",
    "exact_value = exact_solution(np.array([[1, 0.5]]))\n",
    "exact_value"
   ]
  },
  {
   "cell_type": "code",
   "execution_count": 22,
   "metadata": {},
   "outputs": [
    {
     "data": {
      "text/plain": [
       "1.211832798100887e-05"
      ]
     },
     "execution_count": 22,
     "metadata": {},
     "output_type": "execute_result"
    }
   ],
   "source": [
    "# h = k = 1 / 10\n",
    "M = 10\n",
    "k = 1 / 10\n",
    "n_max = 5\n",
    "U = wendroff_box(M, k, n_max)\n",
    "error = abs(exact_value - U[10, 5])\n",
    "error"
   ]
  },
  {
   "cell_type": "code",
   "execution_count": 23,
   "metadata": {},
   "outputs": [
    {
     "data": {
      "text/plain": [
       "5.869885133513719e-08"
      ]
     },
     "execution_count": 23,
     "metadata": {},
     "output_type": "execute_result"
    }
   ],
   "source": [
    "# h = k = 1 / 20\n",
    "M = 20\n",
    "k = 1 / 20\n",
    "n_max = 10\n",
    "U = wendroff_box(M, k, n_max)\n",
    "error = abs(exact_value - U[20, 10])\n",
    "error"
   ]
  },
  {
   "cell_type": "markdown",
   "metadata": {},
   "source": [
    "We observe that the pointwise error is almost divided by 200 as the two step sizes are both reduced by a factor 2. This is perhaps due to the fact that the order 2 accuracy claimed by this method is only relevant when comparing L2 norms..."
   ]
  },
  {
   "cell_type": "code",
   "execution_count": null,
   "metadata": {},
   "outputs": [],
   "source": []
  }
 ],
 "metadata": {
  "kernelspec": {
   "display_name": "Python 3",
   "language": "python",
   "name": "python3"
  },
  "language_info": {
   "codemirror_mode": {
    "name": "ipython",
    "version": 3
   },
   "file_extension": ".py",
   "mimetype": "text/x-python",
   "name": "python",
   "nbconvert_exporter": "python",
   "pygments_lexer": "ipython3",
   "version": "3.8.5"
  }
 },
 "nbformat": 4,
 "nbformat_minor": 4
}

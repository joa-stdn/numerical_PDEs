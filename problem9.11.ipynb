{
 "cells": [
  {
   "cell_type": "markdown",
   "metadata": {},
   "source": [
    "## Homework 5 CME306\n",
    "### Problem 9.11"
   ]
  },
  {
   "cell_type": "code",
   "execution_count": 2,
   "metadata": {},
   "outputs": [],
   "source": [
    "import numpy as np\n",
    "import matplotlib.pyplot as plt"
   ]
  },
  {
   "cell_type": "markdown",
   "metadata": {},
   "source": [
    "#### Definitions"
   ]
  },
  {
   "cell_type": "code",
   "execution_count": 5,
   "metadata": {},
   "outputs": [],
   "source": [
    "def exact_solution(x, t):\n",
    "    \"\"\"\n",
    "    Given two 1D arrays x and t, computes the value of the exact solution at points x[i], t[i]\n",
    "    \"\"\"\n",
    "    values = np.exp(-np.pi ** 2 * t) * np.sin(np.pi * x) - np.exp(-9 * np.pi ** 2 * t) * np.sin(3 * np.pi * x)\n",
    "    return values"
   ]
  },
  {
   "cell_type": "code",
   "execution_count": 6,
   "metadata": {},
   "outputs": [],
   "source": [
    "def v(x):\n",
    "    \"\"\"\n",
    "    Given a 1D array x, computes teh values of v at points x[i]\n",
    "    \"\"\"\n",
    "    values = np.sin(np.pi * x) - np.sin(3 * np.pi * x)\n",
    "    return values"
   ]
  },
  {
   "cell_type": "markdown",
   "metadata": {},
   "source": [
    "#### Forward Euler"
   ]
  },
  {
   "cell_type": "code",
   "execution_count": 8,
   "metadata": {},
   "outputs": [],
   "source": [
    "def forward_euler(k, M, n_max):\n",
    "    \"\"\"\n",
    "    Computes approximations for u(x_j, t_n) using the forward Euler scheme until time step n_max\n",
    "    \"\"\"\n",
    "    # Definitions\n",
    "    h = 1 / M\n",
    "    lambd = k / h ** 2\n",
    "    x = np.arange(1, M) / M\n",
    "    U = np.zeros((M + 1, n_max + 1)) # U[j, n] will contain an approximation of u(x_j, t_n)\n",
    "    \n",
    "    # Initial values\n",
    "    U[1:-1, 0] = v(x)\n",
    "    \n",
    "    # Defining matrix A\n",
    "    A = np.eye(M - 1) * (1 - 2 * lambd)\n",
    "    for i in range(M - 2):\n",
    "        A[i, i + 1], A[i + 1, i] = lambd, lambd\n",
    "    \n",
    "    # Iterations\n",
    "    for i in range(1, n_max + 1):\n",
    "        U[1:-1, i] = A @ U[1:-1, i - 1]\n",
    "    \n",
    "    return U"
   ]
  },
  {
   "cell_type": "code",
   "execution_count": 13,
   "metadata": {},
   "outputs": [
    {
     "name": "stdout",
     "output_type": "stream",
     "text": [
      "Error at (1/2, 1) for forward Euler using h = 1 / 10, k = 1 / 600: 9.290894187867103e-09\n"
     ]
    }
   ],
   "source": [
    "# h = 1 / 10, k = 1 / 600\n",
    "M = 10\n",
    "k = 1 / 600\n",
    "n_max = 600\n",
    "U600 = forward_euler(k, M, n_max)\n",
    "error600 = abs(exact_solution(0.5, 1) - U600[5, 600])\n",
    "print(f\"Error at (1/2, 1) for forward Euler using h = 1 / 10, k = 1 / 600: {error600}\")"
   ]
  },
  {
   "cell_type": "code",
   "execution_count": 15,
   "metadata": {},
   "outputs": [
    {
     "name": "stdout",
     "output_type": "stream",
     "text": [
      "Error at (1/2, 1) for forward Euler using h = 1 / 10, k = 1 / 300: 4.08879347959175e-06\n"
     ]
    }
   ],
   "source": [
    "# h = 1 / 10, k = 1 / 300\n",
    "M = 10\n",
    "k = 1 / 300\n",
    "n_max = 300\n",
    "U300 = forward_euler(k, M, n_max)\n",
    "error300 = abs(exact_solution(0.5, 1) - U300[5, 300])\n",
    "print(f\"Error at (1/2, 1) for forward Euler using h = 1 / 10, k = 1 / 300: {error300}\")"
   ]
  },
  {
   "cell_type": "code",
   "execution_count": 16,
   "metadata": {},
   "outputs": [
    {
     "name": "stdout",
     "output_type": "stream",
     "text": [
      "Error at (1/2, 1) for forward Euler using h = 1 / 10, k = 1 / 100: 5.7256098329672984e+29\n"
     ]
    }
   ],
   "source": [
    "# h = 1 / 10, k = 1 / 100\n",
    "M = 10\n",
    "k = 1 / 100\n",
    "n_max = 100\n",
    "U100 = forward_euler(k, M, n_max)\n",
    "error100 = abs(exact_solution(0.5, 1) - U100[5, 100])\n",
    "print(f\"Error at (1/2, 1) for forward Euler using h = 1 / 10, k = 1 / 100: {error100}\")"
   ]
  },
  {
   "cell_type": "markdown",
   "metadata": {},
   "source": [
    "We observe that the forward Euler scheme did not converge for $h=\\frac{1}{10}$ and $k=\\frac{1}{100}$. This is consistent with the material seen in class, where we showed that the method is only stable if $k \\leqslant \\frac{1}{2}h^2$."
   ]
  },
  {
   "cell_type": "markdown",
   "metadata": {},
   "source": [
    "For the two other values of $k$, the scheme converges, and we observe that reducing $k$ by a factor 2 induces a reduction of the error by 40, which is unexpected..."
   ]
  },
  {
   "cell_type": "markdown",
   "metadata": {},
   "source": [
    "#### Crank Nicolson"
   ]
  },
  {
   "cell_type": "code",
   "execution_count": 21,
   "metadata": {},
   "outputs": [],
   "source": [
    "def crank_nicolson(k, M, n_max):\n",
    "    \"\"\"\n",
    "    Computes approximations for u(x_j, t_n) using the Crank Nicolson scheme until time step n_max\n",
    "    \"\"\"\n",
    "    # Definitions\n",
    "    h = 1 / M\n",
    "    lambd = k / h ** 2\n",
    "    x = np.arange(1, M) / M\n",
    "    U = np.zeros((M + 1, n_max + 1)) # U[j, n] will contain an approximation of u(x_j, t_n)\n",
    "    \n",
    "    # Initial values\n",
    "    U[1:-1, 0] = v(x)\n",
    "    \n",
    "    # Defining matrix A, B, and inv(B) * A\n",
    "    A, B = np.eye(M - 1) * (1 - lambd), np.eye(M - 1) * (1 + lambd)\n",
    "    for i in range(M - 2):\n",
    "        A[i, i + 1], A[i + 1, i] = 0.5 * lambd, 0.5 * lambd\n",
    "        B[i, i + 1], B[i + 1, i] = -0.5 * lambd, -0.5 * lambd\n",
    "        \n",
    "    C = np.linalg.inv(B) @ A\n",
    "    \n",
    "    # Iterations\n",
    "    for i in range(1, n_max + 1):\n",
    "        U[1:-1, i] = C @ U[1:-1, i - 1]\n",
    "    \n",
    "    return U"
   ]
  },
  {
   "cell_type": "code",
   "execution_count": 24,
   "metadata": {},
   "outputs": [
    {
     "name": "stdout",
     "output_type": "stream",
     "text": [
      "Error at (1/2, 1) for Crank Nicolson using h = 1 / 10, k = 1 / 10: 0.0070503547775257235\n"
     ]
    }
   ],
   "source": [
    "# h = 1 / 10, k = 1 / 10\n",
    "M = 10\n",
    "k = 1 / 10\n",
    "n_max = 10\n",
    "U10 = crank_nicolson(k, M, n_max)\n",
    "error10 = abs(exact_solution(0.5, 1) - U10[5, 10])\n",
    "print(f\"Error at (1/2, 1) for Crank Nicolson using h = 1 / 10, k = 1 / 10: {error10}\")"
   ]
  },
  {
   "cell_type": "markdown",
   "metadata": {},
   "source": [
    "The Crank Nicolson method does not diverge converge even when $k$ has the same order of magnitude as $h$. There is no stiffness! But the error is 100 times greater than the actual value that we want to measure..."
   ]
  },
  {
   "cell_type": "code",
   "execution_count": null,
   "metadata": {},
   "outputs": [],
   "source": []
  }
 ],
 "metadata": {
  "kernelspec": {
   "display_name": "Python 3",
   "language": "python",
   "name": "python3"
  },
  "language_info": {
   "codemirror_mode": {
    "name": "ipython",
    "version": 3
   },
   "file_extension": ".py",
   "mimetype": "text/x-python",
   "name": "python",
   "nbconvert_exporter": "python",
   "pygments_lexer": "ipython3",
   "version": "3.8.5"
  }
 },
 "nbformat": 4,
 "nbformat_minor": 4
}

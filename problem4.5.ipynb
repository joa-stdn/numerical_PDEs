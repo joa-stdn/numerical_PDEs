{
 "cells": [
  {
   "cell_type": "markdown",
   "metadata": {},
   "source": [
    "## Homework 2 CME306\n",
    "### Problem 4.5"
   ]
  },
  {
   "cell_type": "code",
   "execution_count": 1,
   "metadata": {},
   "outputs": [],
   "source": [
    "import numpy as np\n",
    "import matplotlib.pyplot as plt"
   ]
  },
  {
   "cell_type": "markdown",
   "metadata": {},
   "source": [
    "The discretization scheme for the finite difference method for the resolution of $-\\Delta u=f$ on $\\Omega=(0,1)^2$ with $u=0$ on $\\partial \\Omega$ and $f(x) = \\sin(\\pi x_1)\\sin(\\pi x_2)+\\sin(\\pi x_1)\\sin(2\\pi x_2)$ is described on the handwritten notes"
   ]
  },
  {
   "cell_type": "code",
   "execution_count": 5,
   "metadata": {},
   "outputs": [],
   "source": [
    "f = lambda x: np.sin(np.pi * x[0]) * np.sin(np.pi * x[1]) + np.sin(np.pi * x[0]) * np.sin(2 * np.pi * x[1])"
   ]
  },
  {
   "cell_type": "code",
   "execution_count": 30,
   "metadata": {},
   "outputs": [],
   "source": [
    "def solve(M):\n",
    "    \"\"\"\n",
    "    Solves the two-point boundary value problem with the finite difference method and h = 1 / M\n",
    "    Returns the approximate solution values on all the (M + 1) ^2 points of the discretization grid\n",
    "    \"\"\"\n",
    "    \n",
    "    h = 1 / M\n",
    "    \n",
    "    # Defining diagBloc of A\n",
    "    diagBloc = 4 * np.eye(M - 1)\n",
    "    for i in range(M - 2):\n",
    "        diagBloc[i, i + 1], diagBloc[i + 1, i] = -1, -1\n",
    "        \n",
    "    # Defining A\n",
    "    A = np.zeros(((M - 1) ** 2, (M - 1) ** 2))\n",
    "    for i in range(M - 2):\n",
    "        A[i * (M - 1): (i + 1) * (M - 1), (i + 1) * (M - 1): (i + 2) * (M - 1)] = -np.eye(M - 1)\n",
    "        A[(i + 1) * (M - 1): (i + 2) * (M - 1), i * (M - 1): (i + 1) * (M - 1)] = -np.eye(M - 1)\n",
    "    \n",
    "    for i in range(M - 1):\n",
    "        A[i * (M - 1): (i + 1) * (M - 1), i * (M - 1): (i + 1) * (M - 1)] = diagBloc.copy()\n",
    "    \n",
    "    # Defining b row wise\n",
    "    b = h ** 2 * np.array([f((h * j1, h * j2)) for j2 in range(1, M) for j1 in range(1, M)])\n",
    "    \n",
    "    # Actually solving\n",
    "    U = np.linalg.inv(A) @ b\n",
    "    \n",
    "    # Reshaping U: row-wise, the first row of the new U is the visually bottom row\n",
    "    U = U.reshape((M - 1, M - 1))\n",
    "    \n",
    "    # Adding 0 to get a (M + 1) x (M + 1) matrix\n",
    "    U = np.pad(U, [[1, 1], [1, 1]], mode='constant')\n",
    "    \n",
    "    return U"
   ]
  },
  {
   "cell_type": "code",
   "execution_count": 31,
   "metadata": {},
   "outputs": [],
   "source": [
    "# Finite difference\n",
    "U1 = solve(10)\n",
    "U2 = solve(20)"
   ]
  },
  {
   "cell_type": "code",
   "execution_count": 42,
   "metadata": {},
   "outputs": [
    {
     "data": {
      "image/png": "[encoded data removed]",
      "text/plain": [
       "<Figure size 432x288 with 1 Axes>"
      ]
     },
     "metadata": {},
     "output_type": "display_data"
    }
   ],
   "source": [
    "# Color plot for h = 1 / 10\n",
    "plt.pcolormesh(U1)\n",
    "plt.xticks([])\n",
    "plt.yticks([])\n",
    "plt.title(r'Color plot of the finite difference solution with $h=1/10$')\n",
    "plt.show()"
   ]
  },
  {
   "cell_type": "code",
   "execution_count": 41,
   "metadata": {},
   "outputs": [
    {
     "data": {
      "image/png": "[encoded data removed]",
      "text/plain": [
       "<Figure size 432x288 with 1 Axes>"
      ]
     },
     "metadata": {},
     "output_type": "display_data"
    }
   ],
   "source": [
    "# Color plot for h = 1 / 20\n",
    "plt.pcolormesh(U2)\n",
    "plt.xticks([])\n",
    "plt.yticks([])\n",
    "plt.title(r'Color plot of the finite difference solution with $h=1/20$')\n",
    "plt.show()"
   ]
  },
  {
   "cell_type": "code",
   "execution_count": 37,
   "metadata": {},
   "outputs": [],
   "source": [
    "# Real solution\n",
    "solution = lambda x: (2 * np.pi ** 2) ** (-1) * np.sin(np.pi * x[0]) * np.sin(np.pi * x[1]) + (5 * np.pi ** 2) ** (-1) * np.sin(np.pi * x[0]) * np.sin(2 * np.pi * x[1])"
   ]
  },
  {
   "cell_type": "code",
   "execution_count": 40,
   "metadata": {},
   "outputs": [
    {
     "data": {
      "image/png": "[encoded data removed]",
      "text/plain": [
       "<Figure size 432x288 with 1 Axes>"
      ]
     },
     "metadata": {},
     "output_type": "display_data"
    }
   ],
   "source": [
    "# Color plot of the exact solution\n",
    "M = 100\n",
    "h = 1 / M\n",
    "exact_U = np.array([solution((h * j1, h * j2)) for j2 in range(M + 1) for j1 in range(M + 1)]).reshape((M + 1, M + 1))\n",
    "plt.pcolormesh(exact_U)\n",
    "plt.xticks([])\n",
    "plt.yticks([])\n",
    "plt.title('Color plot of the exact solution')\n",
    "plt.show()"
   ]
  },
  {
   "cell_type": "code",
   "execution_count": 43,
   "metadata": {},
   "outputs": [
    {
     "data": {
      "text/plain": [
       "0.00041873091515791383"
      ]
     },
     "execution_count": 43,
     "metadata": {},
     "output_type": "execute_result"
    }
   ],
   "source": [
    "# Error at (0.5, 0.5) for h = 1 / 10 ie (5 / 10, 5 / 10)\n",
    "abs(U1[5, 5] - solution((0.5, 0.5)))"
   ]
  },
  {
   "cell_type": "code",
   "execution_count": 44,
   "metadata": {},
   "outputs": [
    {
     "data": {
      "text/plain": [
       "0.00010429530307747709"
      ]
     },
     "execution_count": 44,
     "metadata": {},
     "output_type": "execute_result"
    }
   ],
   "source": [
    "# Error at (0.5, 0.5) for h = 1 / 20 ie (10 / 20, 10 / 20)\n",
    "abs(U2[10, 10] - solution((0.5, 0.5)))"
   ]
  },
  {
   "cell_type": "code",
   "execution_count": null,
   "metadata": {},
   "outputs": [],
   "source": []
  }
 ],
 "metadata": {
  "kernelspec": {
   "display_name": "Python 3",
   "language": "python",
   "name": "python3"
  },
  "language_info": {
   "codemirror_mode": {
    "name": "ipython",
    "version": 3
   },
   "file_extension": ".py",
   "mimetype": "text/x-python",
   "name": "python",
   "nbconvert_exporter": "python",
   "pygments_lexer": "ipython3",
   "version": "3.8.5"
  }
 },
 "nbformat": 4,
 "nbformat_minor": 4
}
